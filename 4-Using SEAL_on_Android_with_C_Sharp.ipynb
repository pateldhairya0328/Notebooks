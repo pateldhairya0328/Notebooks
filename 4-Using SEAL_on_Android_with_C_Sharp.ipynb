{
 "cells": [
  {
   "cell_type": "markdown",
   "metadata": {},
   "source": [
    "# Using Microsoft SEAL on Android\n",
    "\n",
    "With Xamarin, and the Microsoft SEAL NuGet package, we are able to to develop Android applications incorporating homomorphic encryption using .NET. But before we jump into the Android app development, we will begin with writing a simple C# program that will be transferred to the Android app. This program will consist of repeatedly encrypting, then decrypting a number, and measuring the time taken on average to encrypt and decrypt the number once. This is a very important time to know, as it can be the bottleneck in the frequency a certain operation can run with on a phone.\n",
    "\n",
    "To begin with, we need to import some libraries that we will be using. We need to get the NuGet packaged for Microsoft SEAL, as well as the System.Diagnostics class which will help us in timing. \n",
    "\n",
    "**Note**: Do not include `#r \"nuget:Microsoft.Research.SEALNet, 3.5.1\"` in actual C# code. That is jupyter specific code for importing the NuGet package. Follow steps on the Microsoft SEAL GitHub to set up an environment to use SEAL with C#/.NET."
   ]
  },
  {
   "cell_type": "code",
   "execution_count": 11,
   "metadata": {},
   "outputs": [],
   "source": [
    "#r \"nuget:Microsoft.Research.SEALNet, 3.5.1\"\n",
    "using Microsoft.Research.SEAL;\n",
    "\n",
    "using System;\n",
    "using System.Diagnostics;"
   ]
  },
  {
   "cell_type": "markdown",
   "metadata": {},
   "source": [
    "Our simple program will consist of setting up the encryption parameters, then encrypting and decrypting a number inside a for loop. To do this, we simply set up the encryption parameters as is done in the example for the CKKS scheme in the [Microsoft SEAL examples](https://github.com/microsoft/SEAL/blob/master/dotnet/examples/4_CKKS_Basics.cs). We then encode a number, the mathematical constant *e* to the 12th decimal place, in this case, then encrypt it. We immediately decrypt it then decode it back to a floating point number."
   ]
  },
  {
   "cell_type": "code",
   "execution_count": 16,
   "metadata": {},
   "outputs": [
    {
     "name": "stdout",
     "output_type": "stream",
     "text": [
      "\n",
      "Original: 2.718281828459\n",
      "Enc/Dec:  2.718281829085\n"
     ]
    }
   ],
   "source": [
    "test.Main();\n",
    "\n",
    "public class test{\n",
    "    public static void Main(){\n",
    "        using EncryptionParameters parms = new EncryptionParameters(SchemeType.CKKS);\n",
    "        ulong polyModulusDegree = 8192;\n",
    "        parms.PolyModulusDegree = polyModulusDegree;\n",
    "        parms.CoeffModulus = CoeffModulus.Create(\n",
    "                        polyModulusDegree, new int[]{ 60, 40, 40, 60 });\n",
    "        double scale = Math.Pow(2.0, 40);\n",
    "\n",
    "        using SEALContext context = new SEALContext(parms);\n",
    "        Console.WriteLine();\n",
    "\n",
    "        using KeyGenerator keygen = new KeyGenerator(context);\n",
    "        using PublicKey publicKey = keygen.PublicKey;\n",
    "        using SecretKey secretKey = keygen.SecretKey;\n",
    "        using Encryptor encryptor = new Encryptor(context, publicKey);\n",
    "        using Decryptor decryptor = new Decryptor(context, secretKey);\n",
    "\n",
    "        using CKKSEncoder encoder = new CKKSEncoder(context);\n",
    "\n",
    "        using Plaintext xPlain = new Plaintext();\n",
    "        using Plaintext plainResult = new Plaintext();\n",
    "        using Ciphertext x1Encrypted = new Ciphertext();\n",
    "\n",
    "        List<double> result = new List<double>();\n",
    "\n",
    "        encoder.Encode(2.718281828459, scale, xPlain);\n",
    "        encryptor.Encrypt(xPlain, x1Encrypted);\n",
    "        decryptor.Decrypt(x1Encrypted, plainResult);\n",
    "        encoder.Decode(plainResult, result);\n",
    "\n",
    "        Console.WriteLine(\"Original: \" + (2.718281828459).ToString());\n",
    "        Console.WriteLine(\"Enc/Dec:  \" + (result[0]).ToString(\"#.############\"));\n",
    "    }\n",
    "}"
   ]
  },
  {
   "cell_type": "markdown",
   "metadata": {},
   "source": [
    "After running this, we can see that the encrypted then decrypted value is accurate to the 8th decimal place, or about 10^(-8). The parameters and sclae we chose gave us about 20 bits of precision after the decimal point. Since 10^(-8) is smaller than 2^(-20) ~ 10^(-7), we were at least as accurate as what our parameters guaranteed us.\n",
    "\n",
    "After running this to verify that the result is the same (or at least similar) to our original value, we can add code to display the time it took to encrypt and decrypt the number, using the [Stopwatch class](https://docs.microsoft.com/en-us/dotnet/api/system.diagnostics.stopwatch?view=netcore-3.1). We can directly print out the number of milliseconds using the `ElapsedMilliseconds` property, but we will instead use the `ElapsedTicks`, which gives a higher time resolution. We also use the `Frequency` field to convert from ticks to a measure of time.\n",
    "\n",
    "In our timing of encryption and decryption, we also include the time taken for encoding and decoding, as for any practical purpose, our data is not going to be provided as an encoded polynomial, and we would have to take time to do so."
   ]
  },
  {
   "cell_type": "code",
   "execution_count": 23,
   "metadata": {},
   "outputs": [
    {
     "name": "stdout",
     "output_type": "stream",
     "text": [
      "\n",
      "Original:   2.718281828459\n",
      "Enc/Dec:    2.718281828575\n",
      "Time taken: 14.179ms\n"
     ]
    }
   ],
   "source": [
    "test.Main();\n",
    "\n",
    "public class test{\n",
    "    public static void Main(){\n",
    "        using EncryptionParameters parms = new EncryptionParameters(SchemeType.CKKS);\n",
    "        ulong polyModulusDegree = 8192;\n",
    "        parms.PolyModulusDegree = polyModulusDegree;\n",
    "        parms.CoeffModulus = CoeffModulus.Create(\n",
    "                        polyModulusDegree, new int[]{ 60, 40, 40, 60 });\n",
    "        double scale = Math.Pow(2.0, 40);\n",
    "\n",
    "        using SEALContext context = new SEALContext(parms);\n",
    "        Console.WriteLine();\n",
    "\n",
    "        using KeyGenerator keygen = new KeyGenerator(context);\n",
    "        using PublicKey publicKey = keygen.PublicKey;\n",
    "        using SecretKey secretKey = keygen.SecretKey;\n",
    "        using Encryptor encryptor = new Encryptor(context, publicKey);\n",
    "        using Decryptor decryptor = new Decryptor(context, secretKey);\n",
    "\n",
    "        using CKKSEncoder encoder = new CKKSEncoder(context);\n",
    "\n",
    "        using Plaintext xPlain = new Plaintext();\n",
    "        using Plaintext plainResult = new Plaintext();\n",
    "        using Ciphertext x1Encrypted = new Ciphertext();\n",
    "\n",
    "        List<double> result = new List<double>();\n",
    "        \n",
    "        Stopwatch stopWatch = new Stopwatch();\n",
    "        stopWatch.Start();\n",
    "        \n",
    "        encoder.Encode(2.718281828459, scale, xPlain);\n",
    "        encryptor.Encrypt(xPlain, x1Encrypted);\n",
    "        decryptor.Decrypt(x1Encrypted, plainResult);\n",
    "        encoder.Decode(plainResult, result);\n",
    "\n",
    "        stopWatch.Stop();\n",
    "        \n",
    "        Console.WriteLine(\"Original:   \" + (2.718281828459).ToString());\n",
    "        Console.WriteLine(\"Enc/Dec:    \" + (result[0]).ToString(\"#.############\"));\n",
    "        Console.WriteLine(\"Time taken: \" + (1000.0*stopWatch.ElapsedTicks/(Stopwatch.Frequency)).ToString() + \"ms\");\n",
    "    }\n",
    "}"
   ]
  },
  {
   "cell_type": "markdown",
   "metadata": {},
   "source": [
    "An issue that could arise by timing this way could be noisy data, where the time taken is off by a few milliseconds each run due to external factors. Doing the encryption and decryption many times, and finding the average allows us to get a more accurate measurement of the time taken. To accomplish this, we wrap our encryption/decryption in a for loop that runs 1000 times, and divide the time taken by 1000, to get the average time taken."
   ]
  },
  {
   "cell_type": "code",
   "execution_count": 25,
   "metadata": {},
   "outputs": [
    {
     "name": "stdout",
     "output_type": "stream",
     "text": [
      "\n",
      "Original:   2.718281828459\n",
      "Enc/Dec:    2.718281828073\n",
      "Time taken: 11.631ms on average per enc/dec\n"
     ]
    }
   ],
   "source": [
    "test.Main();\n",
    "\n",
    "public class test{\n",
    "    public static void Main(){\n",
    "        using EncryptionParameters parms = new EncryptionParameters(SchemeType.CKKS);\n",
    "        ulong polyModulusDegree = 8192;\n",
    "        parms.PolyModulusDegree = polyModulusDegree;\n",
    "        parms.CoeffModulus = CoeffModulus.Create(\n",
    "                        polyModulusDegree, new int[]{ 60, 40, 40, 60 });\n",
    "        double scale = Math.Pow(2.0, 40);\n",
    "\n",
    "        using SEALContext context = new SEALContext(parms);\n",
    "        Console.WriteLine();\n",
    "\n",
    "        using KeyGenerator keygen = new KeyGenerator(context);\n",
    "        using PublicKey publicKey = keygen.PublicKey;\n",
    "        using SecretKey secretKey = keygen.SecretKey;\n",
    "        using Encryptor encryptor = new Encryptor(context, publicKey);\n",
    "        using Decryptor decryptor = new Decryptor(context, secretKey);\n",
    "\n",
    "        using CKKSEncoder encoder = new CKKSEncoder(context);\n",
    "\n",
    "        using Plaintext xPlain = new Plaintext();\n",
    "        using Plaintext plainResult = new Plaintext();\n",
    "        using Ciphertext x1Encrypted = new Ciphertext();\n",
    "\n",
    "        List<double> result = new List<double>();\n",
    "        \n",
    "        Stopwatch stopWatch = new Stopwatch();\n",
    "        stopWatch.Start();\n",
    "        \n",
    "        for (int i = 0; i < 1000; i++){        \n",
    "            encoder.Encode(2.718281828459, scale, xPlain);\n",
    "            encryptor.Encrypt(xPlain, x1Encrypted);\n",
    "            decryptor.Decrypt(x1Encrypted, plainResult);\n",
    "            encoder.Decode(plainResult, result);\n",
    "        }\n",
    "        stopWatch.Stop();\n",
    "        \n",
    "        Console.WriteLine(\"Original:   \" + (2.718281828459).ToString());\n",
    "        Console.WriteLine(\"Enc/Dec:    \" + (result[0]).ToString(\"#.############\"));\n",
    "        Console.WriteLine(\"Time taken: \" + (1.0*stopWatch.ElapsedTicks/(Stopwatch.Frequency)).ToString(\"##.###\") + \"ms on average per enc/dec\");\n",
    "    }\n",
    "}"
   ]
  },
  {
   "cell_type": "markdown",
   "metadata": {},
   "source": [
    "We finally have a simple program that gives a fairly accurate time of how long it takes to encrypt and decrypt a single value with some given encryption parameters. We can also see that our average deviates from the single value we calculated before quite a bit, showing the inaccuracy of taking a single measurement.\n",
    "\n",
    "Since the timing is heavily affected by system specifications, my specs are:\n",
    "\n",
    "CPU: Intel Core i7-6700HQ @ 2.60 GHz. 1 physical processor; 4 cores; 8 threads\n",
    "\n",
    "RAM: 16 GB\n",
    "\n",
    "Motherboard: Lenovo Ideapad Y700 Touch-15ISK/Allsparks 5A2 (LENOVO)\n",
    "\n",
    "Storage: ATA ST1000LM035-1RK1 (1 TB)\n",
    "\n",
    "OS: Windows 10 Home (Version 10.0.18363 Build 18363)"
   ]
  },
  {
   "cell_type": "markdown",
   "metadata": {},
   "source": [
    "## Working with Xamarin \n",
    "\n",
    "Now that we have made a working program in base C#, we can move on to transfer it to an Android app and test the time it takes on that. To develop on Android, we will be using [Xamarin](https://dotnet.microsoft.com/apps/xamarin) in Visual Studio 2019, which allows us to easily move from our simple C# above to an Android app that accomplishes the same task. To install Xamarin, follow the steps outlined [here](https://docs.microsoft.com/en-us/xamarin/get-started/installation/windows). \n",
    "\n",
    "**Note**: If you do not have Visual Studio 2019, you will be instructed to download it.\n",
    "**Note**: This will *not* work with Linux, so you will have to use either Mac or Windows - I use Windows 10."
   ]
  },
  {
   "cell_type": "markdown",
   "metadata": {},
   "source": [
    "Start by opening Visual Studio 2019, and select \"Create a new project\" under \"Get Started\". \n",
    "\n",
    "![vs1](img/vs1.png)"
   ]
  },
  {
   "cell_type": "markdown",
   "metadata": {},
   "source": [
    "Now, in the search bar, search for \"Xamarin.forms\", and click the option that says \"Mobile App (Xamarin.Forms)\". We will be using Xamarin forms specifically to create this basic Android app, due to its simplicity.\n",
    "\n",
    "![vs2](img/vs2.png)\n",
    "\n",
    "In the next window, you will get an option to name your project and set the location. I use the default location, and name the project \"EncDecTiming\". We then create the a blank project.\n",
    "\n",
    "![vs3](img/vs3.png)\n",
    "![vs4](img/vs4.png)"
   ]
  },
  {
   "cell_type": "markdown",
   "metadata": {},
   "source": [
    "After some time to set up the project, you will arrive at the regular Visual Studio window. On the right side of the screen, you should see the Solution Explorer. Immediately under the Solution Explorer, right click on \"EncDecTiming\". and select \"Manage NuGet Packages\"\n",
    "\n",
    "![vs5](img/vs5.png)\n",
    "\n"
   ]
  },
  {
   "cell_type": "markdown",
   "metadata": {},
   "source": [
    "After, click \"Browse\", and search for \"Microsoft.Research.SEALNet\", and install version 3.5.1. You may get a popup asking you to click \"OK\" to proceed with the installation.\n",
    "\n",
    "![vs6](img/vs6.png)\n",
    "\n",
    "Once it finishes installing, you can close that tab. Under EncDecTiming.Android, right click \"References\", and select \"Manage NuGet Packages...\" again. Follow the same steps as above to install SEAL for Android as well.\n",
    "\n",
    "![vs6](img/vs61.png)"
   ]
  },
  {
   "cell_type": "markdown",
   "metadata": {},
   "source": [
    "For the next steps, you will need an Android phone. It is possible to deploy the app to a virtual Android machine, but on Windows you would need to enable HyperV to do so. HyperV is unavailable on Windows 10 Home, so I could not test it, so the remaining steps are for deploying to a physical Android device.\n",
    "\n",
    "To configure your Android device, do the following:\n",
    "1. Open settings\n",
    "2. Search for \"Build Number\", or go to \"About Phone\" (usually at the bottom) -> \"Software information\" -> \"Build Number\"\n",
    "3. Click \"Build Number\" repeatedly until \"Developer Options\" are enabled\n",
    "4. Search for \"USB Debugging\", or go to \"Developer Options\" (now at the bottom of Settings) -> \"USB Debugging\" (under \"Debugging\")\n",
    "5. Enable \"USB Debugging\"\n",
    "\n",
    "Then, after your device is configured, we can allow our computer to deploy to the device.\n",
    "1. Plug in device to computer using USB cable\n",
    "2. Allow USB Debugging in the pop up that shows up on your phone\n",
    "3. Check \"Always allow from this computer\"\n",
    "4. Click \"Allow\"\n",
    "\n",
    "After doing these steps, you should see your device in the top task bar next to a green run button. \n",
    "\n",
    "![vs7](img/vs7.png)\n",
    "\n",
    "The device I am using is a Samsung A5 runnning Android 8, which is exactly what shows up. Click the run button to begin debugging and run the default empty Xamarin form program, to test if the compiling and deploying works. The first time you do this may take longer than usual. After it has finished deploying, you should see something like the following on your phone:\n",
    "\n",
    "<img src=\"img/vs8.png\" width=\"400\">\n",
    "\n",
    "The default program is an empty form with a single label in the center. After verifying that the app deployed correctly, select \"Stop Debugging\" from \"Debug\"."
   ]
  },
  {
   "cell_type": "markdown",
   "metadata": {},
   "source": [
    "In order to make our app, we will have to modify two files, `MainPage.xaml` and `MainPage.xaml.cs`, which can be opened from Solution Explorer.\n",
    "\n",
    "<img src=\"img/vs9.png\" width=\"400\">\n"
   ]
  },
  {
   "cell_type": "markdown",
   "metadata": {},
   "source": [
    "First, we start by modifying `MainPage.xaml` to include a button and a modifiable label. We will run our encryption/decryption program every time the button is pressed, and display the output in the label. The default `MainPage.xaml` looks like the following:\n",
    "\n",
    "```\n",
    "<?xml version=\"1.0\" encoding=\"utf-8\" ?>\n",
    "<ContentPage xmlns=\"http://xamarin.com/schemas/2014/forms\"\n",
    "             xmlns:x=\"http://schemas.microsoft.com/winfx/2009/xaml\"\n",
    "             xmlns:d=\"http://xamarin.com/schemas/2014/forms/design\"\n",
    "             xmlns:mc=\"http://schemas.openxmlformats.org/markup-compatibility/2006\"\n",
    "             mc:Ignorable=\"d\"\n",
    "             x:Class=\"EncDecTiming.MainPage\">\n",
    "\n",
    "    <StackLayout>\n",
    "        <!-- Place new controls here -->\n",
    "        <Label Text=\"Welcome to Xamarin.Forms!\" \n",
    "           HorizontalOptions=\"Center\"\n",
    "           VerticalOptions=\"CenterAndExpand\" />\n",
    "    </StackLayout>\n",
    "\n",
    "</ContentPage>\n",
    "```\n",
    "\n",
    "We will modify it to\n",
    "\n",
    "```\n",
    "<?xml version=\"1.0\" encoding=\"utf-8\" ?>\n",
    "<ContentPage xmlns=\"http://xamarin.com/schemas/2014/forms\"\n",
    "             xmlns:x=\"http://schemas.microsoft.com/winfx/2009/xaml\"\n",
    "             xmlns:d=\"http://xamarin.com/schemas/2014/forms/design\"\n",
    "             xmlns:mc=\"http://schemas.openxmlformats.org/markup-compatibility/2006\"\n",
    "             mc:Ignorable=\"d\"\n",
    "             x:Class=\"EncDecTiming.MainPage\">\n",
    "\n",
    "    <StackLayout>\n",
    "        <!-- Place new controls here -->\n",
    "        <Label Text=\"{Binding LabelText}\" \n",
    "           HorizontalOptions=\"Center\"\n",
    "           VerticalOptions=\"CenterAndExpand\"/>\n",
    "        <Button x:Name=\"btn\" Text=\"Click To Run\" Clicked=\"Handle_Clicked\" />\n",
    "    </StackLayout>\n",
    "\n",
    "</ContentPage>\n",
    "\n",
    "```\n",
    "\n",
    "For the label, we bind the value of the label to a a string, `LabelText`, which we will get to later. We also make a button with default text, and a function that will handle what happens when the butotn is clicked (`Handle_Clicked`).\n",
    "\n",
    "Now moving to `MainPage.xaml.cs`, we see the following libraries included by default"
   ]
  },
  {
   "cell_type": "code",
   "execution_count": null,
   "metadata": {},
   "outputs": [],
   "source": [
    "using System;\n",
    "using System.Collections.Generic;\n",
    "using System.ComponentModel;\n",
    "using System.Linq;\n",
    "using System.Text;\n",
    "using System.Threading.Tasks;\n",
    "using Xamarin.Forms;"
   ]
  },
  {
   "cell_type": "markdown",
   "metadata": {},
   "source": [
    "We will add the libraries for SEAL and Stopwatch"
   ]
  },
  {
   "cell_type": "code",
   "execution_count": 28,
   "metadata": {},
   "outputs": [],
   "source": [
    "using System.Diagnostics;\n",
    "using Microsoft.Research.SEAL;"
   ]
  },
  {
   "cell_type": "markdown",
   "metadata": {},
   "source": [
    "The rest of the file is"
   ]
  },
  {
   "cell_type": "code",
   "execution_count": null,
   "metadata": {},
   "outputs": [],
   "source": [
    "namespace EncDecTiming\n",
    "{\n",
    "    // Learn more about making custom code visible in the Xamarin.Forms previewer\n",
    "    // by visiting https://aka.ms/xamarinforms-previewer\n",
    "    [DesignTimeVisible(false)]\n",
    "    public partial class MainPage : ContentPage\n",
    "    {\n",
    "        public MainPage()\n",
    "        {\n",
    "            InitializeComponent();\n",
    "        }\n",
    "    }\n",
    "}"
   ]
  },
  {
   "cell_type": "markdown",
   "metadata": {},
   "source": [
    "We start by adding our string for the label in the class, with getters and setters. We use getters and setters in order to be able to notify that there was a change in a property, so the label can update when the string is set."
   ]
  },
  {
   "cell_type": "code",
   "execution_count": null,
   "metadata": {},
   "outputs": [],
   "source": [
    "private string labelText;\n",
    "public string LabelText\n",
    "{\n",
    "    get { return labelText; }\n",
    "    set\n",
    "    {\n",
    "        labelText = value;\n",
    "        OnPropertyChanged(nameof(LabelText)); // Notify that there was a change on this property\n",
    "    }\n",
    "}"
   ]
  },
  {
   "cell_type": "markdown",
   "metadata": {},
   "source": [
    "We also modify the constructor to indicate where the binded value is, and to initialize the label."
   ]
  },
  {
   "cell_type": "code",
   "execution_count": null,
   "metadata": {},
   "outputs": [],
   "source": [
    "public MainPage()\n",
    "{\n",
    "    InitializeComponent();\n",
    "    BindingContext = this;\n",
    "\n",
    "    LabelText = \"Hello, press button to start\";\n",
    "}"
   ]
  },
  {
   "cell_type": "markdown",
   "metadata": {},
   "source": [
    "Lastly, we make our button handler method, `void Handle_Clicked`. This method will be the exact same as `test.Main()` from our original C# code to test the time it took to encrypt/decrypt, but without the lines to write to the console. Instead, we will change the label text to show our output."
   ]
  },
  {
   "cell_type": "code",
   "execution_count": null,
   "metadata": {},
   "outputs": [],
   "source": [
    "void Handle_Clicked(object sender, System.EventArgs e)\n",
    "{\n",
    "    using EncryptionParameters parms = new EncryptionParameters(SchemeType.CKKS);\n",
    "    ulong polyModulusDegree = 8192;\n",
    "    parms.PolyModulusDegree = polyModulusDegree;\n",
    "    parms.CoeffModulus = CoeffModulus.Create(\n",
    "                    polyModulusDegree, new int[] { 60, 40, 40, 60 });\n",
    "    double scale = Math.Pow(2.0, 40);\n",
    "\n",
    "    using SEALContext context = new SEALContext(parms);\n",
    "    Console.WriteLine();\n",
    "\n",
    "    using KeyGenerator keygen = new KeyGenerator(context);\n",
    "    using PublicKey publicKey = keygen.PublicKey;\n",
    "    using SecretKey secretKey = keygen.SecretKey;\n",
    "    using Encryptor encryptor = new Encryptor(context, publicKey);\n",
    "    using Decryptor decryptor = new Decryptor(context, secretKey);\n",
    "\n",
    "    using CKKSEncoder encoder = new CKKSEncoder(context);\n",
    "\n",
    "    using Plaintext xPlain = new Plaintext();\n",
    "    using Plaintext plainResult = new Plaintext();\n",
    "    using Ciphertext x1Encrypted = new Ciphertext();\n",
    "\n",
    "    List<double> result = new List<double>();\n",
    "\n",
    "    Stopwatch stopWatch = new Stopwatch();\n",
    "    stopWatch.Start();\n",
    "\n",
    "    for (int i = 0; i < 1000; i++)\n",
    "    {\n",
    "        encoder.Encode(2.718281828459, scale, xPlain);\n",
    "        encryptor.Encrypt(xPlain, x1Encrypted);\n",
    "        decryptor.Decrypt(x1Encrypted, plainResult);\n",
    "        encoder.Decode(plainResult, result);\n",
    "    }\n",
    "    stopWatch.Stop();\n",
    "\n",
    "    LabelText = \"Original: \" + (2.718281828459).ToString() + \"\\nEnc/Dec: \" + (result[0]).ToString(\"#.############\") + \"\\nTime taken: \" + (1.0 * stopWatch.ElapsedTicks / (Stopwatch.Frequency)).ToString(\"##.###\") + \"ms on average per enc/dec\";\n",
    "}"
   ]
  },
  {
   "cell_type": "markdown",
   "metadata": {},
   "source": [
    "We include the `\\n` to add new lines to our label, a simple workaround to instead having 3 labels for the 3 outputs. You may run into an issue where every line with a `using` statement shows an error, telling you to use C# 8.0 instead of C# 7.3. To fix this, open the directory where your solution is located, then open the directory that has the solution name (EncDecTiming in this case). Do *not* open EncDecTiming.Android or EncDecTiming.iOS instead. Inside this directory, open the file with the .csproj extension using a text editor. The file should look like\n",
    "\n",
    "```\n",
    "<Project Sdk=\"Microsoft.NET.Sdk\">\n",
    "\n",
    "  <PropertyGroup>\n",
    "    <TargetFramework>netstandard2.0</TargetFramework>\n",
    "    <ProduceReferenceAssembly>true</ProduceReferenceAssembly>\n",
    "  </PropertyGroup>\n",
    "\n",
    "  <PropertyGroup Condition=\"'$(Configuration)|$(Platform)'=='Debug|AnyCPU'\">\n",
    "    <DebugType>portable</DebugType>\n",
    "    <DebugSymbols>true</DebugSymbols>\n",
    "  </PropertyGroup>\n",
    "\n",
    "  <ItemGroup>\n",
    "    <PackageReference Include=\"Microsoft.Research.SEALNet\" Version=\"3.5.1\" />\n",
    "    <PackageReference Include=\"Xamarin.Forms\" Version=\"4.5.0.495\" />\n",
    "    <PackageReference Include=\"Xamarin.Essentials\" Version=\"1.3.1\" />\n",
    "  </ItemGroup>\n",
    "</Project>\n",
    "```"
   ]
  },
  {
   "cell_type": "markdown",
   "metadata": {},
   "source": [
    "Modify this file to\n",
    "\n",
    "```\n",
    "<Project Sdk=\"Microsoft.NET.Sdk\">\n",
    "\n",
    "  <PropertyGroup>\n",
    "    <TargetFramework>netstandard2.0</TargetFramework>\n",
    "    <LangVersion>8.0</LangVersion>\n",
    "    <Nullable>enable</Nullable>\n",
    "    <ProduceReferenceAssembly>true</ProduceReferenceAssembly>\n",
    "  </PropertyGroup>\n",
    "\n",
    "  <PropertyGroup Condition=\"'$(Configuration)|$(Platform)'=='Debug|AnyCPU'\">\n",
    "    <DebugType>portable</DebugType>\n",
    "    <DebugSymbols>true</DebugSymbols>\n",
    "  </PropertyGroup>\n",
    "\n",
    "  <ItemGroup>\n",
    "    <PackageReference Include=\"Microsoft.Research.SEALNet\" Version=\"3.5.1\" />\n",
    "    <PackageReference Include=\"Xamarin.Forms\" Version=\"4.5.0.495\" />\n",
    "    <PackageReference Include=\"Xamarin.Essentials\" Version=\"1.3.1\" />\n",
    "  </ItemGroup>\n",
    "</Project>\n",
    "```\n",
    "\n",
    "which will set the C# version to 8.0"
   ]
  },
  {
   "cell_type": "markdown",
   "metadata": {},
   "source": [
    "Your final `MainPage.xaml.cs` file should look like"
   ]
  },
  {
   "cell_type": "code",
   "execution_count": null,
   "metadata": {},
   "outputs": [],
   "source": [
    "using System;\n",
    "using System.Collections.Generic;\n",
    "using System.ComponentModel;\n",
    "using System.Linq;\n",
    "using System.Text;\n",
    "using System.Threading.Tasks;\n",
    "using Xamarin.Forms;\n",
    "\n",
    "using System.Diagnostics;\n",
    "using Microsoft.Research.SEAL;\n",
    "\n",
    "namespace EncDecTiming\n",
    "{\n",
    "    // Learn more about making custom code visible in the Xamarin.Forms previewer\n",
    "    // by visiting https://aka.ms/xamarinforms-previewer\n",
    "    [DesignTimeVisible(false)]\n",
    "    public partial class MainPage : ContentPage\n",
    "    {\n",
    "        public MainPage()\n",
    "        {\n",
    "            InitializeComponent();\n",
    "            BindingContext = this;\n",
    "\n",
    "            LabelText = \"Hello, press button to start\";\n",
    "        }\n",
    "\n",
    "        private string labelText;\n",
    "        public string LabelText\n",
    "        {\n",
    "            get { return LabelText; }\n",
    "            set\n",
    "            {\n",
    "                LabelText = value;\n",
    "                OnPropertyChanged(nameof(LabelText)); // Notify that there was a change on this property\n",
    "            }\n",
    "        }\n",
    "\n",
    "        void Handle_Clicked(object sender, System.EventArgs e)\n",
    "        {\n",
    "            using EncryptionParameters parms = new EncryptionParameters(SchemeType.CKKS);\n",
    "            ulong polyModulusDegree = 8192;\n",
    "            parms.PolyModulusDegree = polyModulusDegree;\n",
    "            parms.CoeffModulus = CoeffModulus.Create(\n",
    "                            polyModulusDegree, new int[] { 60, 40, 40, 60 });\n",
    "            double scale = Math.Pow(2.0, 40);\n",
    "\n",
    "            using SEALContext context = new SEALContext(parms);\n",
    "            Console.WriteLine();\n",
    "\n",
    "            using KeyGenerator keygen = new KeyGenerator(context);\n",
    "            using PublicKey publicKey = keygen.PublicKey;\n",
    "            using SecretKey secretKey = keygen.SecretKey;\n",
    "            using Encryptor encryptor = new Encryptor(context, publicKey);\n",
    "            using Decryptor decryptor = new Decryptor(context, secretKey);\n",
    "\n",
    "            using CKKSEncoder encoder = new CKKSEncoder(context);\n",
    "\n",
    "            using Plaintext xPlain = new Plaintext();\n",
    "            using Plaintext plainResult = new Plaintext();\n",
    "            using Ciphertext x1Encrypted = new Ciphertext();\n",
    "\n",
    "            List<double> result = new List<double>();\n",
    "\n",
    "            Stopwatch stopWatch = new Stopwatch();\n",
    "            stopWatch.Start();\n",
    "\n",
    "            for (int i = 0; i < 1000; i++)\n",
    "            {\n",
    "                encoder.Encode(2.718281828459, scale, xPlain);\n",
    "                encryptor.Encrypt(xPlain, x1Encrypted);\n",
    "                decryptor.Decrypt(x1Encrypted, plainResult);\n",
    "                encoder.Decode(plainResult, result);\n",
    "            }\n",
    "            stopWatch.Stop();\n",
    "\n",
    "            LabelText = \"Original: \" + (2.718281828459).ToString() + \"\\nEnc/Dec: \" + (result[0]).ToString(\"#.############\") + \"\\nTime taken: \" + (1.0 * stopWatch.ElapsedTicks / (Stopwatch.Frequency)).ToString(\"##.###\") + \"ms on average per enc/dec\";\n",
    "        }\n",
    "    }\n",
    "}"
   ]
  },
  {
   "cell_type": "markdown",
   "metadata": {},
   "source": [
    "Once again, click the green run button to compile and deploy the app to your phone. Your phone should show the following screen\n",
    "\n",
    "<img src=\"img/vs10.png\" width=\"400\">\n",
    "\n",
    "Press \"CLICK TO RUN\", and wait for the program to finish executing (could take upwards of a minute due to encrypting/decryption 1000 times). After it is done, you should get a screen that looks like\n",
    "\n",
    "<img src=\"img/vs11.jpg\" width=\"400\">\n",
    "\n",
    "Unsurprisingly, the program runs slower on a phone than on a computer, but the slow down is almost 7x! This could be a combination of a phone's processor being much weaker and SEAL not being as parallelized. With this output, we have completed making and running a basic Android app using SEAL to time encryption/decryption."
   ]
  }
 ],
 "metadata": {
  "kernelspec": {
   "display_name": ".NET (C#)",
   "language": "C#",
   "name": ".net-csharp"
  },
  "language_info": {
   "file_extension": ".cs",
   "mimetype": "text/x-csharp",
   "name": "C#",
   "pygments_lexer": "csharp",
   "version": "8.0"
  }
 },
 "nbformat": 4,
 "nbformat_minor": 4
}
