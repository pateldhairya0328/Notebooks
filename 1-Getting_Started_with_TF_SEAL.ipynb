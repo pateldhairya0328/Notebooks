{
 "cells": [
  {
   "cell_type": "markdown",
   "metadata": {},
   "source": [
    "# Getting Started with TF SEAL\n",
    "\n",
    "In this notebook, we will be working on how to do a few simple operations in [TF SEAL](https://github.com/tf-encrypted/tf-seal), a library that bridges between the Microsoft SEAL homomorphic encryption library and TensorFlow in Python. Before going through the rest of this notebook, familiarize yourself with the [Microsoft SEAL library](https://github.com/Microsoft/SEAL) in either C++ or .NET by working through their provided examples. "
   ]
  },
  {
   "cell_type": "markdown",
   "metadata": {},
   "source": [
    "## Setting up TF SEAL\n",
    "\n",
    "For the rest of process, we will be using Ubuntu 20.04, and a Python 3.7 environment in Anaconda, as suggested by the developers of TF SEAL. If you do not have Anaconda on your device, go to the [Anaconda distribution page](https://www.anaconda.com/distribution/) and install the latest version for Linux for Python 3.7. Once you have Anaconda ready to go, we will create a conda environment, which I call `customtf`, and then activate it. The command to do this in the terminal is\n",
    "\n",
    "```\n",
    "conda create -n customtf python=3.7 -y\n",
    "source activate customtf\n",
    "```\n",
    "Then, since the SEAL and TensorFlow libraries were compiled using different C++ versions, we get a patched version of the TensorFlow library compatible with SEAL, by typing\n",
    "\n",
    "```\n",
    "wget https://storage.googleapis.com/tf-pips/tf-c++17-support/tf_nightly-1.14.0-cp37-cp37m-linux_x86_64.whl\n",
    "pip install tf_nightly-1.14.0-cp37-cp37m-linux_x86_64.whl\n",
    "```\n",
    "\n",
    "in the terminal. Make sure to have `pip` installed before doing this step. We can then finally use `pip` again to get the TF SEAL library:\n",
    "\n",
    "```\n",
    "pip install tf-seal\n",
    "```\n"
   ]
  },
  {
   "cell_type": "markdown",
   "metadata": {},
   "source": [
    "## Basic Operations in TF SEAL\n",
    "\n",
    "We will demonstrate how to do the two basic homomorphic operations using TF SEAL, addition and multiplication. By generating random numbers, and doing both operations on encrypted and plain text values, then decrypting the result, we will verify that the operation is homomorphic. To begin with, we import the necessary libraries:"
   ]
  },
  {
   "cell_type": "code",
   "execution_count": 36,
   "metadata": {},
   "outputs": [],
   "source": [
    "import numpy as np\n",
    "import tensorflow as tf\n",
    "import tf_seal as tfs"
   ]
  },
  {
   "cell_type": "markdown",
   "metadata": {},
   "source": [
    "Since TF SEAL is to be used with TensorFlow, and not simply as a generic homomorphic encryption library, we require NumPy to generate matrices (or rather tensors) to do operations on. We then generate the public and secret keys necessary for encrypting and decrypting the data "
   ]
  },
  {
   "cell_type": "code",
   "execution_count": 37,
   "metadata": {},
   "outputs": [],
   "source": [
    "public_keys, secret_key = tfs.seal_key_gen(gen_relin=True, gen_galois=True)"
   ]
  },
  {
   "cell_type": "markdown",
   "metadata": {},
   "source": [
    "We set the flags to generate the relinearize and galois keys as true, as both of those public keys are also necessary for efficient computations. Once the keys have been generated, the two random values to be added can be generated and encrypted\n",
    "\n",
    "### Addition"
   ]
  },
  {
   "cell_type": "code",
   "execution_count": 56,
   "metadata": {},
   "outputs": [
    {
     "name": "stdout",
     "output_type": "stream",
     "text": [
      "a_plain = [[0.33529496 0.04337829]]\n"
     ]
    }
   ],
   "source": [
    "a_plain = np.random.normal(size=(1, 2)).astype(np.float32)\n",
    "print(\"a_plain =\",a_plain)\n",
    "a = tfs.constant(a_plain, secret_key, public_keys)"
   ]
  },
  {
   "cell_type": "markdown",
   "metadata": {},
   "source": [
    "`a_plain` will be used for plaintext computations to verify the encrypted computations on `a`. By printing the values of `a_plain` here, we can also manually verify the computations later on. Since TF SEAL is meant to be used with tensors in TensorFlow, rather than for generic operations on scalars, we can manipulate matrix multiplication to allow us to sum scalars.\n",
    "\n",
    "$$\n",
    "\\begin{align*}\n",
    "    a_{plain} \n",
    "    &= \\left(\n",
    "    \\begin{array}{c c}\n",
    "        a_{11} & a_{12}\\\\\n",
    "    \\end{array}\n",
    "    \\right)\\\\\n",
    "    b \n",
    "    &= \\left(\n",
    "    \\begin{array}{c}\n",
    "        1\\\\\n",
    "        1\\\\\n",
    "    \\end{array}\n",
    "    \\right)\\\\\n",
    "    a_{plain} b\n",
    "    &= \\left(\n",
    "    \\begin{array}{c}\n",
    "        a_{11}+a_{12}\\\\\n",
    "    \\end{array}\n",
    "    \\right)\n",
    "\\end{align*}\n",
    "$$\n",
    "\n",
    "From this, we can see that multiplying `a_plain` by a 2x1 matrix of 1s, we can arrive at a 1x1 matrix containing the sum of the two values, allowing us to compute the sum using the functions available in TF SEAL. Let us define a variable for `b`"
   ]
  },
  {
   "cell_type": "code",
   "execution_count": 57,
   "metadata": {},
   "outputs": [],
   "source": [
    "b  = np.ones((2, 1)).astype(np.float32)"
   ]
  },
  {
   "cell_type": "markdown",
   "metadata": {},
   "source": [
    "Now, we simply make two more variables holding the multiplied values"
   ]
  },
  {
   "cell_type": "code",
   "execution_count": 58,
   "metadata": {},
   "outputs": [],
   "source": [
    "c = tfs.matmul(a, b.transpose())\n",
    "d = tf.matmul(a_plain, b)"
   ]
  },
  {
   "cell_type": "markdown",
   "metadata": {},
   "source": [
    "Lastly, we run a TensorFlow session to execute the operations, and print the outputs"
   ]
  },
  {
   "cell_type": "code",
   "execution_count": 60,
   "metadata": {},
   "outputs": [
    {
     "name": "stdout",
     "output_type": "stream",
     "text": [
      "SEAL:  [[0.37867507]]\n",
      "Plain: [[0.37867326]]\n"
     ]
    }
   ],
   "source": [
    "with tf.compat.v1.Session() as sess:\n",
    "    print(\"SEAL: \", sess.run(c))\n",
    "    print(\"Plain:\", sess.run(d))"
   ]
  },
  {
   "cell_type": "markdown",
   "metadata": {},
   "source": [
    "Even with the approximate operations from homomorphic encryption, the two values are nearly identical! The summation operation can be verified as very nearly homomorphic. Although the values are not exactly the same, it is important to keep in mind that this will eventually be used for machine learning. The data used will also be noisy, and the operations would not result in exact values anyways, so minor errors are acceptable. \n",
    "\n",
    "### Multiplication\n",
    "\n",
    "We can now move on to verify multiplication. Using similar steps as above, we will define 2 random 1x1 variables in plaintext, and encrypt them. Then, we will multiply the plaintext and encrypted values and compare."
   ]
  },
  {
   "cell_type": "code",
   "execution_count": 61,
   "metadata": {},
   "outputs": [
    {
     "name": "stdout",
     "output_type": "stream",
     "text": [
      "a_plain = [[-0.30829367]]\n",
      "b_plain = [[-0.22017]]\n",
      "\n",
      "SEAL:  [[0.06787702]]\n",
      "Plain: [[0.06787702]]\n"
     ]
    }
   ],
   "source": [
    "a_plain = np.random.normal(size=(1,1)).astype(np.float32)\n",
    "b_plain = np.random.normal(size=(1,1)).astype(np.float32)\n",
    "\n",
    "print(\"a_plain =\", a_plain)\n",
    "print(\"b_plain =\", b_plain)\n",
    "\n",
    "a = tfs.constant(a_plain, secret_key, public_keys)\n",
    "b = tfs.constant(b_plain, secret_key, public_keys)\n",
    "\n",
    "c = tfs.matmul(a, b)\n",
    "d = tf.matmul(a_plain, b_plain)\n",
    "\n",
    "with tf.compat.v1.Session() as sess:\n",
    "    print(\"\\nSEAL: \", sess.run(c))\n",
    "    print(\"Plain:\", sess.run(d))"
   ]
  },
  {
   "cell_type": "markdown",
   "metadata": {},
   "source": [
    "Once again, the approximate operations from homomorphic encryption is nearly identical to multiplication on plaintext values. With these findings, we can move on to test a practical example where homomorphic encryption can be used."
   ]
  }
 ],
 "metadata": {
  "kernelspec": {
   "display_name": "Python 3",
   "language": "python",
   "name": "python3"
  },
  "language_info": {
   "codemirror_mode": {
    "name": "ipython",
    "version": 3
   },
   "file_extension": ".py",
   "mimetype": "text/x-python",
   "name": "python",
   "nbconvert_exporter": "python",
   "pygments_lexer": "ipython3",
   "version": "3.7.3"
  }
 },
 "nbformat": 4,
 "nbformat_minor": 4
}
