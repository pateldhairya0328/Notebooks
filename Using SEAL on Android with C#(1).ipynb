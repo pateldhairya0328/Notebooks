{
 "cells": [
  {
   "cell_type": "markdown",
   "metadata": {},
   "source": [
    "# Using Microsoft SEAL on Android\n",
    "\n",
    "With Xamarin, and the Microsoft SEAL NuGet package, we are able to to develop Android applications incorporating homomorphic encryption using .NET. But before we jump into the Android app development, we will begin with writing a simple C# program that will be transferred to the Android app. This program will consist of repeatedly encrypting, then decrypting a number, and measuring the time taken on average to encrypt and decrypt the number once. This is a very important time to know, as it can be the bottleneck in the frequency a certain operation can run with on a phone.\n",
    "\n",
    "To begin with, we need to import some libraries that we will be using. We need to get the NuGet packaged for Microsoft SEAL, as well as the System.Diagnostics class which will help us in timing."
   ]
  },
  {
   "cell_type": "code",
   "execution_count": 15,
   "metadata": {},
   "outputs": [],
   "source": [
    "#r \"nuget:Microsoft.Research.SEALNet, 3.5.1\"\n",
    "using Microsoft.Research.SEAL;\n",
    "\n",
    "using System;\n",
    "using System.Diagnostics;"
   ]
  },
  {
   "cell_type": "markdown",
   "metadata": {},
   "source": [
    "Our simple program will consist of setting up the encryption parameters, then encrypting and decrypting a number inside a for loop. To do this, we simply set up the encryption parameters as is done in the example for the CKKS scheme in the [Microsoft SEAL examples](https://github.com/microsoft/SEAL/blob/master/dotnet/examples/4_CKKS_Basics.cs). We then encode a number, the mathematical constant *e* to the 12th decimal place, in this case, then encrypt it. We immediately decrypt it then decode it back to a floating point number."
   ]
  },
  {
   "cell_type": "code",
   "execution_count": 46,
   "metadata": {},
   "outputs": [],
   "source": [
    "class test{\n",
    "    static void Main(){\n",
    "        using EncryptionParameters parms = new EncryptionParameters(SchemeType.CKKS);\n",
    "        ulong polyModulusDegree = 8192;\n",
    "        parms.PolyModulusDegree = polyModulusDegree;\n",
    "        parms.CoeffModulus = CoeffModulus.Create(\n",
    "                        polyModulusDegree, new int[]{ 60, 40, 40, 60 });\n",
    "        double scale = Math.Pow(2.0, 40);\n",
    "\n",
    "        using SEALContext context = new SEALContext(parms);\n",
    "        Console.WriteLine();\n",
    "\n",
    "        using KeyGenerator keygen = new KeyGenerator(context);\n",
    "        using PublicKey publicKey = keygen.PublicKey;\n",
    "        using SecretKey secretKey = keygen.SecretKey;\n",
    "        using Encryptor encryptor = new Encryptor(context, publicKey);\n",
    "        using Decryptor decryptor = new Decryptor(context, secretKey);\n",
    "\n",
    "        using CKKSEncoder encoder = new CKKSEncoder(context);\n",
    "\n",
    "        using Plaintext xPlain = new Plaintext();\n",
    "        using Plaintext plainResult = new Plaintext();\n",
    "        using Ciphertext x1Encrypted = new Ciphertext();\n",
    "\n",
    "        List<double> result = new List<double>();\n",
    "\n",
    "        encoder.Encode(2.718281828459, scale, xPlain);\n",
    "        encryptor.Encrypt(xPlain, x1Encrypted);\n",
    "        decryptor.Decrypt(x1Encrypted, plainResult);\n",
    "        encoder.Decode(plainResult, result);\n",
    "\n",
    "        Console.WriteLine(2.718281828459);\n",
    "        Console.WriteLine(result[0]);\n",
    "    }\n",
    "}"
   ]
  },
  {
   "cell_type": "markdown",
   "metadata": {},
   "source": [
    "After running this to verify that the result is the same (or at least similar) to our original value, we can add code to display the time it took to encrypt and decrypt the number, using the [Stopwatch class](https://docs.microsoft.com/en-us/dotnet/api/system.diagnostics.stopwatch?view=netcore-3.1), and print out the number of milliseconds it takes to encrypt and decrypt once."
   ]
  },
  {
   "cell_type": "code",
   "execution_count": 47,
   "metadata": {},
   "outputs": [],
   "source": [
    "class test{\n",
    "    static void Main(){\n",
    "        using EncryptionParameters parms = new EncryptionParameters(SchemeType.CKKS);\n",
    "        ulong polyModulusDegree = 8192;\n",
    "        parms.PolyModulusDegree = polyModulusDegree;\n",
    "        parms.CoeffModulus = CoeffModulus.Create(\n",
    "                        polyModulusDegree, new int[]{ 60, 40, 40, 60 });\n",
    "        double scale = Math.Pow(2.0, 40);\n",
    "\n",
    "        using SEALContext context = new SEALContext(parms);\n",
    "        Console.WriteLine();\n",
    "\n",
    "        using KeyGenerator keygen = new KeyGenerator(context);\n",
    "        using PublicKey publicKey = keygen.PublicKey;\n",
    "        using SecretKey secretKey = keygen.SecretKey;\n",
    "        using Encryptor encryptor = new Encryptor(context, publicKey);\n",
    "        using Decryptor decryptor = new Decryptor(context, secretKey);\n",
    "\n",
    "        using CKKSEncoder encoder = new CKKSEncoder(context);\n",
    "\n",
    "        using Plaintext xPlain = new Plaintext();\n",
    "        using Plaintext plainResult = new Plaintext();\n",
    "        using Ciphertext x1Encrypted = new Ciphertext();\n",
    "\n",
    "        List<double> result = new List<double>();\n",
    "        \n",
    "        Stopwatch stopWatch = new Stopwatch();\n",
    "        stopWatch.Start();\n",
    "        \n",
    "        encoder.Encode(2.718281828459, scale, xPlain);\n",
    "        encryptor.Encrypt(xPlain, x1Encrypted);\n",
    "        decryptor.Decrypt(x1Encrypted, plainResult);\n",
    "        encoder.Decode(plainResult, result);\n",
    "\n",
    "        stopWatch.Stop();\n",
    "        \n",
    "        Console.WriteLine(2.718281828459);\n",
    "        Console.WriteLine(result[0]);\n",
    "        Console.WriteLine(\"Time taken: \" + stopWatch.ElapsedMilliseconds.ToString() + \"ms\");\n",
    "    }\n",
    "}"
   ]
  },
  {
   "cell_type": "markdown",
   "metadata": {},
   "source": [
    "An issue that could arise by timing this way could be noisy data, where the time taken is off by a few milliseconds each run due to external factors. Doing the encryption and decryption many times, and finding the average allows us to get a more accurate measurement of the time taken. To accomplish this, we wrap our encryption/decryption in a for loop that runs 1000 times, and divide the time taken by 1000, to get the average time taken."
   ]
  },
  {
   "cell_type": "code",
   "execution_count": 48,
   "metadata": {},
   "outputs": [],
   "source": [
    "class test{\n",
    "    static void Main(){\n",
    "        using EncryptionParameters parms = new EncryptionParameters(SchemeType.CKKS);\n",
    "        ulong polyModulusDegree = 8192;\n",
    "        parms.PolyModulusDegree = polyModulusDegree;\n",
    "        parms.CoeffModulus = CoeffModulus.Create(\n",
    "                        polyModulusDegree, new int[]{ 60, 40, 40, 60 });\n",
    "        double scale = Math.Pow(2.0, 40);\n",
    "\n",
    "        using SEALContext context = new SEALContext(parms);\n",
    "        Console.WriteLine();\n",
    "\n",
    "        using KeyGenerator keygen = new KeyGenerator(context);\n",
    "        using PublicKey publicKey = keygen.PublicKey;\n",
    "        using SecretKey secretKey = keygen.SecretKey;\n",
    "        using Encryptor encryptor = new Encryptor(context, publicKey);\n",
    "        using Decryptor decryptor = new Decryptor(context, secretKey);\n",
    "\n",
    "        using CKKSEncoder encoder = new CKKSEncoder(context);\n",
    "\n",
    "        using Plaintext xPlain = new Plaintext();\n",
    "        using Plaintext plainResult = new Plaintext();\n",
    "        using Ciphertext x1Encrypted = new Ciphertext();\n",
    "\n",
    "        List<double> result = new List<double>();\n",
    "        \n",
    "        Stopwatch stopWatch = new Stopwatch();\n",
    "        stopWatch.Start();\n",
    "        \n",
    "        for (int i = 0; i < 1000; i++){\n",
    "            encoder.Encode(2.718281828459, scale, xPlain);\n",
    "            encryptor.Encrypt(xPlain, x1Encrypted);\n",
    "            decryptor.Decrypt(x1Encrypted, plainResult);\n",
    "            encoder.Decode(plainResult, result);\n",
    "        }\n",
    "\n",
    "        stopWatch.Stop();\n",
    "        \n",
    "        Console.WriteLine(2.718281828459);\n",
    "        Console.WriteLine(result[0]);\n",
    "        Console.WriteLine(\"Average Time taken: \" + (stopWatch.ElapsedMilliseconds/1000.0).ToString() + \"ms\");\n",
    "    }\n",
    "}"
   ]
  },
  {
   "cell_type": "markdown",
   "metadata": {},
   "source": [
    "## Working with Xamarin \n",
    "\n",
    "To develop on Android, we will be using Xamarin in Visual Studio, which allows us to easily move from our simple C# above to an Android app that accomplishes the same task. To install Xamarin, follow the steps outlined [here](https://docs.microsoft.com/en-us/xamarin/get-started/installation/windows). \n",
    "\n",
    "**Note**: If you do not have Visual Studio 2019, you will be instructed to download it.\n",
    "**Note**: This will *not* work with Linux, so you will have to use either Mac or Windows. I use Windows 10"
   ]
  },
  {
   "cell_type": "code",
   "execution_count": null,
   "metadata": {},
   "outputs": [],
   "source": []
  }
 ],
 "metadata": {
  "kernelspec": {
   "display_name": ".NET (C#)",
   "language": "C#",
   "name": ".net-csharp"
  },
  "language_info": {
   "file_extension": ".cs",
   "mimetype": "text/x-csharp",
   "name": "C#",
   "pygments_lexer": "csharp",
   "version": "8.0"
  }
 },
 "nbformat": 4,
 "nbformat_minor": 4
}
